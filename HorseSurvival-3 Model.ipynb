{
 "cells": [
  {
   "cell_type": "markdown",
   "metadata": {},
   "source": [
    "# PREDICTING OUTCOME OF HORSES WITH COLIC"
   ]
  },
  {
   "cell_type": "markdown",
   "metadata": {},
   "source": [
    "Three model types are being compared to best predict the outcome of horses with colic: logistic regression, k-nearest neighbors classifier, and random forest classifier. The target variable here has three classes: died, euthanized, or lived. "
   ]
  },
  {
   "cell_type": "markdown",
   "metadata": {},
   "source": [
    "## Import Packages and Read In Data"
   ]
  },
  {
   "cell_type": "code",
   "execution_count": 1,
   "metadata": {},
   "outputs": [],
   "source": [
    "# Import all packages\n",
    "import pandas as pd\n",
    "import matplotlib.pyplot as plt\n",
    "import numpy as np\n",
    "import seaborn as sns\n",
    "\n",
    "from sklearn.preprocessing import OrdinalEncoder\n",
    "from sklearn.model_selection import train_test_split, RandomizedSearchCV, cross_val_score\n",
    "from sklearn.metrics import confusion_matrix, classification_report\n",
    "\n",
    "from sklearn.ensemble import RandomForestClassifier\n",
    "from sklearn.neighbors import KNeighborsClassifier\n",
    "from sklearn.linear_model import LogisticRegression"
   ]
  },
  {
   "cell_type": "code",
   "execution_count": 2,
   "metadata": {},
   "outputs": [],
   "source": [
    "#Read in data\n",
    "horse_df = pd.read_csv('horse.csv')"
   ]
  },
  {
   "cell_type": "markdown",
   "metadata": {},
   "source": [
    "## Explore Data"
   ]
  },
  {
   "cell_type": "code",
   "execution_count": 3,
   "metadata": {},
   "outputs": [
    {
     "name": "stdout",
     "output_type": "stream",
     "text": [
      "  surgery    age  hospital_number  rectal_temp  pulse  respiratory_rate  \\\n",
      "0      no  adult           530101         38.5   66.0              28.0   \n",
      "1     yes  adult           534817         39.2   88.0              20.0   \n",
      "2      no  adult           530334         38.3   40.0              24.0   \n",
      "3     yes  young          5290409         39.1  164.0              84.0   \n",
      "4      no  adult           530255         37.3  104.0              35.0   \n",
      "\n",
      "  temp_of_extremities peripheral_pulse mucous_membrane capillary_refill_time  \\\n",
      "0                cool          reduced             NaN            more_3_sec   \n",
      "1                 NaN              NaN   pale_cyanotic            less_3_sec   \n",
      "2              normal           normal       pale_pink            less_3_sec   \n",
      "3                cold           normal   dark_cyanotic            more_3_sec   \n",
      "4                 NaN              NaN   dark_cyanotic            more_3_sec   \n",
      "\n",
      "   ... packed_cell_volume total_protein abdomo_appearance abdomo_protein  \\\n",
      "0  ...               45.0           8.4               NaN            NaN   \n",
      "1  ...               50.0          85.0            cloudy            2.0   \n",
      "2  ...               33.0           6.7               NaN            NaN   \n",
      "3  ...               48.0           7.2     serosanguious            5.3   \n",
      "4  ...               74.0           7.4               NaN            NaN   \n",
      "\n",
      "      outcome  surgical_lesion lesion_1 lesion_2  lesion_3  cp_data  \n",
      "0        died               no    11300        0         0       no  \n",
      "1  euthanized               no     2208        0         0       no  \n",
      "2       lived               no        0        0         0      yes  \n",
      "3        died              yes     2208        0         0      yes  \n",
      "4        died               no     4300        0         0       no  \n",
      "\n",
      "[5 rows x 28 columns]\n",
      "       hospital_number  rectal_temp       pulse  respiratory_rate  \\\n",
      "count     2.990000e+02   239.000000  275.000000        241.000000   \n",
      "mean      1.087733e+06    38.168619   72.000000         30.460581   \n",
      "std       1.532032e+06     0.733744   28.646219         17.666102   \n",
      "min       5.184760e+05    35.400000   30.000000          8.000000   \n",
      "25%       5.289040e+05    37.800000   48.000000         18.000000   \n",
      "50%       5.303010e+05    38.200000   64.000000         25.000000   \n",
      "75%       5.347360e+05    38.500000   88.000000         36.000000   \n",
      "max       5.305629e+06    40.800000  184.000000         96.000000   \n",
      "\n",
      "       nasogastric_reflux_ph  packed_cell_volume  total_protein  \\\n",
      "count              53.000000          270.000000     266.000000   \n",
      "mean                4.707547           46.307407      24.274436   \n",
      "std                 1.982311           10.436743      27.364194   \n",
      "min                 1.000000           23.000000       3.300000   \n",
      "25%                 3.000000           38.000000       6.500000   \n",
      "50%                 5.000000           45.000000       7.500000   \n",
      "75%                 6.500000           52.000000      56.750000   \n",
      "max                 7.500000           75.000000      89.000000   \n",
      "\n",
      "       abdomo_protein      lesion_1     lesion_2     lesion_3  \n",
      "count      101.000000    299.000000   299.000000   299.000000  \n",
      "mean         3.039604   3659.709030    90.528428     7.387960  \n",
      "std          1.967947   5408.472421   650.637139   127.749768  \n",
      "min          0.100000      0.000000     0.000000     0.000000  \n",
      "25%          2.000000   2111.500000     0.000000     0.000000  \n",
      "50%          2.300000   2322.000000     0.000000     0.000000  \n",
      "75%          3.900000   3209.000000     0.000000     0.000000  \n",
      "max         10.100000  41110.000000  7111.000000  2209.000000  \n",
      "<class 'pandas.core.frame.DataFrame'>\n",
      "RangeIndex: 299 entries, 0 to 298\n",
      "Data columns (total 28 columns):\n",
      " #   Column                 Non-Null Count  Dtype  \n",
      "---  ------                 --------------  -----  \n",
      " 0   surgery                299 non-null    object \n",
      " 1   age                    299 non-null    object \n",
      " 2   hospital_number        299 non-null    int64  \n",
      " 3   rectal_temp            239 non-null    float64\n",
      " 4   pulse                  275 non-null    float64\n",
      " 5   respiratory_rate       241 non-null    float64\n",
      " 6   temp_of_extremities    243 non-null    object \n",
      " 7   peripheral_pulse       230 non-null    object \n",
      " 8   mucous_membrane        252 non-null    object \n",
      " 9   capillary_refill_time  267 non-null    object \n",
      " 10  pain                   244 non-null    object \n",
      " 11  peristalsis            255 non-null    object \n",
      " 12  abdominal_distention   243 non-null    object \n",
      " 13  nasogastric_tube       195 non-null    object \n",
      " 14  nasogastric_reflux     193 non-null    object \n",
      " 15  nasogastric_reflux_ph  53 non-null     float64\n",
      " 16  rectal_exam_feces      197 non-null    object \n",
      " 17  abdomen                181 non-null    object \n",
      " 18  packed_cell_volume     270 non-null    float64\n",
      " 19  total_protein          266 non-null    float64\n",
      " 20  abdomo_appearance      134 non-null    object \n",
      " 21  abdomo_protein         101 non-null    float64\n",
      " 22  outcome                299 non-null    object \n",
      " 23  surgical_lesion        299 non-null    object \n",
      " 24  lesion_1               299 non-null    int64  \n",
      " 25  lesion_2               299 non-null    int64  \n",
      " 26  lesion_3               299 non-null    int64  \n",
      " 27  cp_data                299 non-null    object \n",
      "dtypes: float64(7), int64(4), object(17)\n",
      "memory usage: 65.5+ KB\n",
      "None\n",
      "There are 299 rows and 28 columns\n"
     ]
    }
   ],
   "source": [
    "print(horse_df.head())\n",
    "print(horse_df.describe())\n",
    "print(horse_df.info())\n",
    "nRow, nCol = horse_df.shape\n",
    "print(f'There are {nRow} rows and {nCol} columns')"
   ]
  },
  {
   "cell_type": "markdown",
   "metadata": {},
   "source": [
    "## Encode and Divide Data Into Features and Target"
   ]
  },
  {
   "cell_type": "code",
   "execution_count": 4,
   "metadata": {},
   "outputs": [
    {
     "data": {
      "text/html": [
       "<div>\n",
       "<style scoped>\n",
       "    .dataframe tbody tr th:only-of-type {\n",
       "        vertical-align: middle;\n",
       "    }\n",
       "\n",
       "    .dataframe tbody tr th {\n",
       "        vertical-align: top;\n",
       "    }\n",
       "\n",
       "    .dataframe thead th {\n",
       "        text-align: right;\n",
       "    }\n",
       "</style>\n",
       "<table border=\"1\" class=\"dataframe\">\n",
       "  <thead>\n",
       "    <tr style=\"text-align: right;\">\n",
       "      <th></th>\n",
       "      <th>outcome</th>\n",
       "      <th>target</th>\n",
       "    </tr>\n",
       "  </thead>\n",
       "  <tbody>\n",
       "    <tr>\n",
       "      <th>0</th>\n",
       "      <td>died</td>\n",
       "      <td>0.0</td>\n",
       "    </tr>\n",
       "    <tr>\n",
       "      <th>1</th>\n",
       "      <td>euthanized</td>\n",
       "      <td>1.0</td>\n",
       "    </tr>\n",
       "    <tr>\n",
       "      <th>2</th>\n",
       "      <td>lived</td>\n",
       "      <td>2.0</td>\n",
       "    </tr>\n",
       "    <tr>\n",
       "      <th>3</th>\n",
       "      <td>died</td>\n",
       "      <td>0.0</td>\n",
       "    </tr>\n",
       "    <tr>\n",
       "      <th>4</th>\n",
       "      <td>died</td>\n",
       "      <td>0.0</td>\n",
       "    </tr>\n",
       "    <tr>\n",
       "      <th>5</th>\n",
       "      <td>lived</td>\n",
       "      <td>2.0</td>\n",
       "    </tr>\n",
       "    <tr>\n",
       "      <th>6</th>\n",
       "      <td>lived</td>\n",
       "      <td>2.0</td>\n",
       "    </tr>\n",
       "    <tr>\n",
       "      <th>7</th>\n",
       "      <td>died</td>\n",
       "      <td>0.0</td>\n",
       "    </tr>\n",
       "    <tr>\n",
       "      <th>8</th>\n",
       "      <td>euthanized</td>\n",
       "      <td>1.0</td>\n",
       "    </tr>\n",
       "    <tr>\n",
       "      <th>9</th>\n",
       "      <td>lived</td>\n",
       "      <td>2.0</td>\n",
       "    </tr>\n",
       "  </tbody>\n",
       "</table>\n",
       "</div>"
      ],
      "text/plain": [
       "      outcome  target\n",
       "0        died     0.0\n",
       "1  euthanized     1.0\n",
       "2       lived     2.0\n",
       "3        died     0.0\n",
       "4        died     0.0\n",
       "5       lived     2.0\n",
       "6       lived     2.0\n",
       "7        died     0.0\n",
       "8  euthanized     1.0\n",
       "9       lived     2.0"
      ]
     },
     "execution_count": 4,
     "metadata": {},
     "output_type": "execute_result"
    }
   ],
   "source": [
    "#Encode taget variable as numeric\n",
    "ord_enc = OrdinalEncoder()\n",
    "horse_df[\"target\"] = ord_enc.fit_transform(horse_df[[\"outcome\"]])\n",
    "horse_df[[\"outcome\", \"target\"]].head(10)"
   ]
  },
  {
   "cell_type": "code",
   "execution_count": 5,
   "metadata": {},
   "outputs": [],
   "source": [
    "#Separate into features and target\n",
    "X=horse_df.drop([\"outcome\", \"target\"],axis=1)\n",
    "y=horse_df.target"
   ]
  },
  {
   "cell_type": "markdown",
   "metadata": {},
   "source": [
    "## Clean Data"
   ]
  },
  {
   "cell_type": "code",
   "execution_count": 6,
   "metadata": {},
   "outputs": [
    {
     "name": "stdout",
     "output_type": "stream",
     "text": [
      "surgery                    0\n",
      "age                        0\n",
      "rectal_temp               60\n",
      "pulse                     24\n",
      "respiratory_rate          58\n",
      "temp_of_extremities       56\n",
      "peripheral_pulse          69\n",
      "mucous_membrane           47\n",
      "capillary_refill_time     32\n",
      "pain                      55\n",
      "peristalsis               44\n",
      "abdominal_distention      56\n",
      "nasogastric_tube         104\n",
      "nasogastric_reflux       106\n",
      "nasogastric_reflux_ph    246\n",
      "rectal_exam_feces        102\n",
      "abdomen                  118\n",
      "packed_cell_volume        29\n",
      "total_protein             33\n",
      "abdomo_appearance        165\n",
      "abdomo_protein           198\n",
      "surgical_lesion            0\n",
      "lesion_1                   0\n",
      "lesion_2                   0\n",
      "lesion_3                   0\n",
      "cp_data                    0\n",
      "dtype: int64\n"
     ]
    },
    {
     "data": {
      "image/png": "[encoded data removed]",
      "text/plain": [
       "<Figure size 1296x720 with 1 Axes>"
      ]
     },
     "metadata": {
      "needs_background": "light"
     },
     "output_type": "display_data"
    }
   ],
   "source": [
    "#Delete hospital number as feature\n",
    "X.drop(['hospital_number'], axis=1, inplace=True)\n",
    "#Check for null values in features and plot\n",
    "null=X.isnull().sum()\n",
    "print(null)\n",
    "plt.figure(figsize=(18,10))\n",
    "plt.bar(range(len(null)), null)\n",
    "plt.title('Missing Values for Features')\n",
    "plt.xlabel('Features')\n",
    "plt.ylabel('Number Missing')\n",
    "plt.show()"
   ]
  },
  {
   "cell_type": "code",
   "execution_count": 7,
   "metadata": {},
   "outputs": [
    {
     "name": "stdout",
     "output_type": "stream",
     "text": [
      "nasogastric_reflux_ph has been removed\n",
      "abdomo_appearance has been removed\n",
      "abdomo_protein has been removed\n",
      "(299, 23)\n",
      "surgery                  0\n",
      "age                      0\n",
      "rectal_temp              0\n",
      "pulse                    0\n",
      "respiratory_rate         0\n",
      "temp_of_extremities      0\n",
      "peripheral_pulse         0\n",
      "mucous_membrane          0\n",
      "capillary_refill_time    0\n",
      "pain                     0\n",
      "peristalsis              0\n",
      "abdominal_distention     0\n",
      "nasogastric_tube         0\n",
      "nasogastric_reflux       0\n",
      "rectal_exam_feces        0\n",
      "abdomen                  0\n",
      "packed_cell_volume       0\n",
      "total_protein            0\n",
      "surgical_lesion          0\n",
      "lesion_1                 0\n",
      "lesion_2                 0\n",
      "lesion_3                 0\n",
      "cp_data                  0\n",
      "dtype: int64\n"
     ]
    }
   ],
   "source": [
    "#Removing columns with more than 50% missing values and replacing rest of missing values with median or mode\n",
    "for col in X.columns.values:\n",
    "    \n",
    "    if (pd.isna(X[col]).sum()) > 0: \n",
    "    \n",
    "        if pd.isna(X[col]).sum() > (50/100 * len(X)): \n",
    "            print(col,\"has been removed\") \n",
    "            X = X.drop([col], axis=1) \n",
    "        \n",
    "        elif (X[col].dtype == 'object'):\n",
    "            X[col] = X[col].fillna(X[col].mode()[0])        \n",
    "        \n",
    "        else:\n",
    "            X[col] = X[col].fillna(X[col].median())\n",
    "            \n",
    "                \n",
    "print(X.shape)\n",
    "print(X.isna().sum())"
   ]
  },
  {
   "cell_type": "markdown",
   "metadata": {},
   "source": [
    "## EDA"
   ]
  },
  {
   "cell_type": "code",
   "execution_count": 8,
   "metadata": {},
   "outputs": [
    {
     "data": {
      "image/png": "[encoded data removed]",
      "text/plain": [
       "<Figure size 1152x576 with 2 Axes>"
      ]
     },
     "metadata": {
      "needs_background": "light"
     },
     "output_type": "display_data"
    }
   ],
   "source": [
    "# Check for correlations between features\n",
    "corr =X.corr()\n",
    "fig, ax =plt.subplots(figsize =(16,8))\n",
    "ax  = sns.heatmap(corr,annot =True,fmt = \".2f\")"
   ]
  },
  {
   "cell_type": "code",
   "execution_count": 9,
   "metadata": {
    "scrolled": true
   },
   "outputs": [
    {
     "data": {
      "text/html": [
       "<div>\n",
       "<style scoped>\n",
       "    .dataframe tbody tr th:only-of-type {\n",
       "        vertical-align: middle;\n",
       "    }\n",
       "\n",
       "    .dataframe tbody tr th {\n",
       "        vertical-align: top;\n",
       "    }\n",
       "\n",
       "    .dataframe thead th {\n",
       "        text-align: right;\n",
       "    }\n",
       "</style>\n",
       "<table border=\"1\" class=\"dataframe\">\n",
       "  <thead>\n",
       "    <tr style=\"text-align: right;\">\n",
       "      <th></th>\n",
       "      <th>rectal_temp</th>\n",
       "      <th>pulse</th>\n",
       "      <th>respiratory_rate</th>\n",
       "      <th>packed_cell_volume</th>\n",
       "      <th>total_protein</th>\n",
       "      <th>lesion_1</th>\n",
       "      <th>lesion_2</th>\n",
       "      <th>lesion_3</th>\n",
       "      <th>surgery_no</th>\n",
       "      <th>surgery_yes</th>\n",
       "      <th>...</th>\n",
       "      <th>rectal_exam_feces_normal</th>\n",
       "      <th>abdomen_distend_large</th>\n",
       "      <th>abdomen_distend_small</th>\n",
       "      <th>abdomen_firm</th>\n",
       "      <th>abdomen_normal</th>\n",
       "      <th>abdomen_other</th>\n",
       "      <th>surgical_lesion_no</th>\n",
       "      <th>surgical_lesion_yes</th>\n",
       "      <th>cp_data_no</th>\n",
       "      <th>cp_data_yes</th>\n",
       "    </tr>\n",
       "  </thead>\n",
       "  <tbody>\n",
       "    <tr>\n",
       "      <th>0</th>\n",
       "      <td>38.5</td>\n",
       "      <td>66.0</td>\n",
       "      <td>28.0</td>\n",
       "      <td>45.0</td>\n",
       "      <td>8.4</td>\n",
       "      <td>11300</td>\n",
       "      <td>0</td>\n",
       "      <td>0</td>\n",
       "      <td>1</td>\n",
       "      <td>0</td>\n",
       "      <td>...</td>\n",
       "      <td>0</td>\n",
       "      <td>1</td>\n",
       "      <td>0</td>\n",
       "      <td>0</td>\n",
       "      <td>0</td>\n",
       "      <td>0</td>\n",
       "      <td>1</td>\n",
       "      <td>0</td>\n",
       "      <td>1</td>\n",
       "      <td>0</td>\n",
       "    </tr>\n",
       "    <tr>\n",
       "      <th>1</th>\n",
       "      <td>39.2</td>\n",
       "      <td>88.0</td>\n",
       "      <td>20.0</td>\n",
       "      <td>50.0</td>\n",
       "      <td>85.0</td>\n",
       "      <td>2208</td>\n",
       "      <td>0</td>\n",
       "      <td>0</td>\n",
       "      <td>0</td>\n",
       "      <td>1</td>\n",
       "      <td>...</td>\n",
       "      <td>0</td>\n",
       "      <td>0</td>\n",
       "      <td>0</td>\n",
       "      <td>0</td>\n",
       "      <td>0</td>\n",
       "      <td>1</td>\n",
       "      <td>1</td>\n",
       "      <td>0</td>\n",
       "      <td>1</td>\n",
       "      <td>0</td>\n",
       "    </tr>\n",
       "    <tr>\n",
       "      <th>2</th>\n",
       "      <td>38.3</td>\n",
       "      <td>40.0</td>\n",
       "      <td>24.0</td>\n",
       "      <td>33.0</td>\n",
       "      <td>6.7</td>\n",
       "      <td>0</td>\n",
       "      <td>0</td>\n",
       "      <td>0</td>\n",
       "      <td>1</td>\n",
       "      <td>0</td>\n",
       "      <td>...</td>\n",
       "      <td>1</td>\n",
       "      <td>0</td>\n",
       "      <td>0</td>\n",
       "      <td>0</td>\n",
       "      <td>1</td>\n",
       "      <td>0</td>\n",
       "      <td>1</td>\n",
       "      <td>0</td>\n",
       "      <td>0</td>\n",
       "      <td>1</td>\n",
       "    </tr>\n",
       "    <tr>\n",
       "      <th>3</th>\n",
       "      <td>39.1</td>\n",
       "      <td>164.0</td>\n",
       "      <td>84.0</td>\n",
       "      <td>48.0</td>\n",
       "      <td>7.2</td>\n",
       "      <td>2208</td>\n",
       "      <td>0</td>\n",
       "      <td>0</td>\n",
       "      <td>0</td>\n",
       "      <td>1</td>\n",
       "      <td>...</td>\n",
       "      <td>0</td>\n",
       "      <td>1</td>\n",
       "      <td>0</td>\n",
       "      <td>0</td>\n",
       "      <td>0</td>\n",
       "      <td>0</td>\n",
       "      <td>0</td>\n",
       "      <td>1</td>\n",
       "      <td>0</td>\n",
       "      <td>1</td>\n",
       "    </tr>\n",
       "    <tr>\n",
       "      <th>4</th>\n",
       "      <td>37.3</td>\n",
       "      <td>104.0</td>\n",
       "      <td>35.0</td>\n",
       "      <td>74.0</td>\n",
       "      <td>7.4</td>\n",
       "      <td>4300</td>\n",
       "      <td>0</td>\n",
       "      <td>0</td>\n",
       "      <td>1</td>\n",
       "      <td>0</td>\n",
       "      <td>...</td>\n",
       "      <td>0</td>\n",
       "      <td>1</td>\n",
       "      <td>0</td>\n",
       "      <td>0</td>\n",
       "      <td>0</td>\n",
       "      <td>0</td>\n",
       "      <td>1</td>\n",
       "      <td>0</td>\n",
       "      <td>1</td>\n",
       "      <td>0</td>\n",
       "    </tr>\n",
       "    <tr>\n",
       "      <th>5</th>\n",
       "      <td>38.2</td>\n",
       "      <td>64.0</td>\n",
       "      <td>25.0</td>\n",
       "      <td>45.0</td>\n",
       "      <td>7.5</td>\n",
       "      <td>0</td>\n",
       "      <td>0</td>\n",
       "      <td>0</td>\n",
       "      <td>1</td>\n",
       "      <td>0</td>\n",
       "      <td>...</td>\n",
       "      <td>0</td>\n",
       "      <td>0</td>\n",
       "      <td>0</td>\n",
       "      <td>1</td>\n",
       "      <td>0</td>\n",
       "      <td>0</td>\n",
       "      <td>1</td>\n",
       "      <td>0</td>\n",
       "      <td>1</td>\n",
       "      <td>0</td>\n",
       "    </tr>\n",
       "    <tr>\n",
       "      <th>6</th>\n",
       "      <td>37.9</td>\n",
       "      <td>48.0</td>\n",
       "      <td>16.0</td>\n",
       "      <td>37.0</td>\n",
       "      <td>7.0</td>\n",
       "      <td>3124</td>\n",
       "      <td>0</td>\n",
       "      <td>0</td>\n",
       "      <td>0</td>\n",
       "      <td>1</td>\n",
       "      <td>...</td>\n",
       "      <td>0</td>\n",
       "      <td>1</td>\n",
       "      <td>0</td>\n",
       "      <td>0</td>\n",
       "      <td>0</td>\n",
       "      <td>0</td>\n",
       "      <td>0</td>\n",
       "      <td>1</td>\n",
       "      <td>1</td>\n",
       "      <td>0</td>\n",
       "    </tr>\n",
       "    <tr>\n",
       "      <th>7</th>\n",
       "      <td>38.2</td>\n",
       "      <td>60.0</td>\n",
       "      <td>25.0</td>\n",
       "      <td>44.0</td>\n",
       "      <td>8.3</td>\n",
       "      <td>2208</td>\n",
       "      <td>0</td>\n",
       "      <td>0</td>\n",
       "      <td>0</td>\n",
       "      <td>1</td>\n",
       "      <td>...</td>\n",
       "      <td>0</td>\n",
       "      <td>0</td>\n",
       "      <td>1</td>\n",
       "      <td>0</td>\n",
       "      <td>0</td>\n",
       "      <td>0</td>\n",
       "      <td>0</td>\n",
       "      <td>1</td>\n",
       "      <td>1</td>\n",
       "      <td>0</td>\n",
       "    </tr>\n",
       "    <tr>\n",
       "      <th>8</th>\n",
       "      <td>38.2</td>\n",
       "      <td>80.0</td>\n",
       "      <td>36.0</td>\n",
       "      <td>38.0</td>\n",
       "      <td>6.2</td>\n",
       "      <td>3205</td>\n",
       "      <td>0</td>\n",
       "      <td>0</td>\n",
       "      <td>1</td>\n",
       "      <td>0</td>\n",
       "      <td>...</td>\n",
       "      <td>0</td>\n",
       "      <td>1</td>\n",
       "      <td>0</td>\n",
       "      <td>0</td>\n",
       "      <td>0</td>\n",
       "      <td>0</td>\n",
       "      <td>0</td>\n",
       "      <td>1</td>\n",
       "      <td>1</td>\n",
       "      <td>0</td>\n",
       "    </tr>\n",
       "    <tr>\n",
       "      <th>9</th>\n",
       "      <td>38.3</td>\n",
       "      <td>90.0</td>\n",
       "      <td>25.0</td>\n",
       "      <td>40.0</td>\n",
       "      <td>6.2</td>\n",
       "      <td>0</td>\n",
       "      <td>0</td>\n",
       "      <td>0</td>\n",
       "      <td>1</td>\n",
       "      <td>0</td>\n",
       "      <td>...</td>\n",
       "      <td>0</td>\n",
       "      <td>1</td>\n",
       "      <td>0</td>\n",
       "      <td>0</td>\n",
       "      <td>0</td>\n",
       "      <td>0</td>\n",
       "      <td>1</td>\n",
       "      <td>0</td>\n",
       "      <td>0</td>\n",
       "      <td>1</td>\n",
       "    </tr>\n",
       "  </tbody>\n",
       "</table>\n",
       "<p>10 rows × 61 columns</p>\n",
       "</div>"
      ],
      "text/plain": [
       "   rectal_temp  pulse  respiratory_rate  packed_cell_volume  total_protein  \\\n",
       "0         38.5   66.0              28.0                45.0            8.4   \n",
       "1         39.2   88.0              20.0                50.0           85.0   \n",
       "2         38.3   40.0              24.0                33.0            6.7   \n",
       "3         39.1  164.0              84.0                48.0            7.2   \n",
       "4         37.3  104.0              35.0                74.0            7.4   \n",
       "5         38.2   64.0              25.0                45.0            7.5   \n",
       "6         37.9   48.0              16.0                37.0            7.0   \n",
       "7         38.2   60.0              25.0                44.0            8.3   \n",
       "8         38.2   80.0              36.0                38.0            6.2   \n",
       "9         38.3   90.0              25.0                40.0            6.2   \n",
       "\n",
       "   lesion_1  lesion_2  lesion_3  surgery_no  surgery_yes  ...  \\\n",
       "0     11300         0         0           1            0  ...   \n",
       "1      2208         0         0           0            1  ...   \n",
       "2         0         0         0           1            0  ...   \n",
       "3      2208         0         0           0            1  ...   \n",
       "4      4300         0         0           1            0  ...   \n",
       "5         0         0         0           1            0  ...   \n",
       "6      3124         0         0           0            1  ...   \n",
       "7      2208         0         0           0            1  ...   \n",
       "8      3205         0         0           1            0  ...   \n",
       "9         0         0         0           1            0  ...   \n",
       "\n",
       "   rectal_exam_feces_normal  abdomen_distend_large  abdomen_distend_small  \\\n",
       "0                         0                      1                      0   \n",
       "1                         0                      0                      0   \n",
       "2                         1                      0                      0   \n",
       "3                         0                      1                      0   \n",
       "4                         0                      1                      0   \n",
       "5                         0                      0                      0   \n",
       "6                         0                      1                      0   \n",
       "7                         0                      0                      1   \n",
       "8                         0                      1                      0   \n",
       "9                         0                      1                      0   \n",
       "\n",
       "   abdomen_firm  abdomen_normal  abdomen_other  surgical_lesion_no  \\\n",
       "0             0               0              0                   1   \n",
       "1             0               0              1                   1   \n",
       "2             0               1              0                   1   \n",
       "3             0               0              0                   0   \n",
       "4             0               0              0                   1   \n",
       "5             1               0              0                   1   \n",
       "6             0               0              0                   0   \n",
       "7             0               0              0                   0   \n",
       "8             0               0              0                   0   \n",
       "9             0               0              0                   1   \n",
       "\n",
       "   surgical_lesion_yes  cp_data_no  cp_data_yes  \n",
       "0                    0           1            0  \n",
       "1                    0           1            0  \n",
       "2                    0           0            1  \n",
       "3                    1           0            1  \n",
       "4                    0           1            0  \n",
       "5                    0           1            0  \n",
       "6                    1           1            0  \n",
       "7                    1           1            0  \n",
       "8                    1           1            0  \n",
       "9                    0           0            1  \n",
       "\n",
       "[10 rows x 61 columns]"
      ]
     },
     "execution_count": 9,
     "metadata": {},
     "output_type": "execute_result"
    }
   ],
   "source": [
    "# Converting categorial data do numeric - One Hot Encoding\n",
    "X = pd.get_dummies(X)\n",
    "X.head(10)"
   ]
  },
  {
   "cell_type": "code",
   "execution_count": 10,
   "metadata": {},
   "outputs": [
    {
     "name": "stdout",
     "output_type": "stream",
     "text": [
      "Correlation with outcome\n",
      "\n",
      "packed_cell_volume             0.398371\n",
      "pulse                          0.335550\n",
      "surgical_lesion_yes            0.332933\n",
      "surgical_lesion_no             0.332933\n",
      "peripheral_pulse_normal        0.304916\n",
      "                                 ...   \n",
      "mucous_membrane_bright_pink    0.024170\n",
      "rectal_temp                    0.013273\n",
      "pain_depressed                 0.009091\n",
      "mucous_membrane_pale_pink      0.007388\n",
      "peristalsis_hypomotile         0.005997\n",
      "Length: 61, dtype: float64\n"
     ]
    }
   ],
   "source": [
    "#Check for correlations between features and target\n",
    "corr_values = X.corrwith(y)\n",
    "print(\"Correlation with outcome\"); print()\n",
    "print(abs(corr_values).sort_values(ascending=False))"
   ]
  },
  {
   "cell_type": "markdown",
   "metadata": {},
   "source": [
    "## Split Data Into Train and Test"
   ]
  },
  {
   "cell_type": "code",
   "execution_count": 11,
   "metadata": {},
   "outputs": [],
   "source": [
    "# Split into train and test sets\n",
    "X_train, X_test, y_train, y_test = train_test_split(X,\n",
    "                                y,test_size=0.2,\n",
    "                                random_state=68)"
   ]
  },
  {
   "cell_type": "markdown",
   "metadata": {},
   "source": [
    "## Set Up Models"
   ]
  },
  {
   "cell_type": "code",
   "execution_count": 12,
   "metadata": {},
   "outputs": [],
   "source": [
    "#Set up models to compare\n",
    "models = {\"logreg\": LogisticRegression(max_iter=100000), \n",
    "          \"knn\": KNeighborsClassifier(), \n",
    "          \"rfc\": RandomForestClassifier()}\n",
    "\n",
    "def fit_and_score(models, X_train, X_test, y_train, y_test):\n",
    "    \n",
    "    np.random.seed(68)\n",
    "    model_scores = {}\n",
    "    \n",
    "    for name, model in models.items():\n",
    "        model.fit(X_train, y_train)\n",
    "        \n",
    "        model_scores[name] = model.score(X_test, y_test)\n",
    "\n",
    "    return model_scores\n"
   ]
  },
  {
   "cell_type": "code",
   "execution_count": 13,
   "metadata": {},
   "outputs": [
    {
     "data": {
      "text/plain": [
       "{'logreg': 0.7333333333333333, 'knn': 0.6333333333333333, 'rfc': 0.65}"
      ]
     },
     "execution_count": 13,
     "metadata": {},
     "output_type": "execute_result"
    }
   ],
   "source": [
    "model_scores = fit_and_score(models, X_train, X_test, y_train, y_test)\n",
    "model_scores"
   ]
  },
  {
   "cell_type": "code",
   "execution_count": 14,
   "metadata": {},
   "outputs": [
    {
     "data": {
      "image/png": "[encoded data removed]",
      "text/plain": [
       "<Figure size 432x288 with 1 Axes>"
      ]
     },
     "metadata": {
      "needs_background": "light"
     },
     "output_type": "display_data"
    }
   ],
   "source": [
    "# Plot scores for comparison\n",
    "models = pd.DataFrame(model_scores, index = [\"accuracy\"])\n",
    "models.T.plot.bar();"
   ]
  },
  {
   "cell_type": "markdown",
   "metadata": {},
   "source": [
    "## Run Randomized Cross Validation\n",
    "Running a randomized cross validation on the top two models: logistic regression and random forest classifier.\n",
    "Tuning models: Define a search space as a bounded domain of hyperparameter values and randomly sample points in that domain."
   ]
  },
  {
   "cell_type": "code",
   "execution_count": 15,
   "metadata": {},
   "outputs": [
    {
     "name": "stdout",
     "output_type": "stream",
     "text": [
      "Best logistiic regression params:  {'solver': 'liblinear', 'C': 1.623776739188721}\n",
      "Best random forest params:  {'n_estimators': 500, 'min_samples_split': 6, 'min_samples_leaf': 1, 'max_depth': 30}\n"
     ]
    }
   ],
   "source": [
    "#Randomized CV\n",
    "LR_grid = {\"C\": np.logspace(-4, 4, 20),\n",
    "           \"solver\": [\"liblinear\"]}\n",
    "\n",
    "RF_grid = {\"n_estimators\" : [100,500,2000],\n",
    "          \"max_depth\": [3, 10, 20, 30],\n",
    "          \"min_samples_split\": np.arange(2, 8, 2),\n",
    "          \"min_samples_leaf\": np.arange(1, 6, 2)}\n",
    "\n",
    "np.random.seed(68)\n",
    "LR = RandomizedSearchCV(LogisticRegression(),\n",
    "                           param_distributions = LR_grid,\n",
    "                           cv =10,\n",
    "                           n_iter = 20)\n",
    "\n",
    "RF = RandomizedSearchCV(RandomForestClassifier(),\n",
    "                           param_distributions = RF_grid,\n",
    "                           cv =10,\n",
    "                           n_iter = 20)\n",
    "\n",
    "print('Best logistiic regression params: ',LR.fit(X_train, y_train).best_params_)\n",
    "print('Best random forest params: ',RF.fit(X_train, y_train).best_params_)\n"
   ]
  },
  {
   "cell_type": "code",
   "execution_count": 16,
   "metadata": {},
   "outputs": [
    {
     "name": "stdout",
     "output_type": "stream",
     "text": [
      "Random Forest  0.7\n",
      "Logistic Regression  0.7333333333333333\n"
     ]
    }
   ],
   "source": [
    "# Test score\n",
    "print('Random Forest ',RF.score(X_test, y_test))\n",
    "print('Logistic Regression ', LR.score(X_test, y_test))"
   ]
  },
  {
   "cell_type": "markdown",
   "metadata": {},
   "source": [
    "### Logistic Regression Prediction and Metrics"
   ]
  },
  {
   "cell_type": "markdown",
   "metadata": {},
   "source": [
    "Since logistic regression gave the best model, we will focus only on those metrics below."
   ]
  },
  {
   "cell_type": "code",
   "execution_count": 17,
   "metadata": {},
   "outputs": [],
   "source": [
    "#Predict\n",
    "y_pred_LR= LR.predict(X_test)\n"
   ]
  },
  {
   "cell_type": "code",
   "execution_count": 18,
   "metadata": {},
   "outputs": [
    {
     "data": {
      "image/png": "[encoded data removed]",
      "text/plain": [
       "<Figure size 432x288 with 2 Axes>"
      ]
     },
     "metadata": {
      "needs_background": "light"
     },
     "output_type": "display_data"
    }
   ],
   "source": [
    "# Confusion matrix for logistic regression\n",
    "from sklearn.metrics import confusion_matrix\n",
    "matrix = confusion_matrix(y_pred_LR, y_test)\n",
    "sns.heatmap(matrix, annot=True)\n",
    "plt.show()"
   ]
  },
  {
   "cell_type": "code",
   "execution_count": 19,
   "metadata": {},
   "outputs": [
    {
     "name": "stdout",
     "output_type": "stream",
     "text": [
      "              precision    recall  f1-score   support\n",
      "\n",
      "         0.0       0.65      0.71      0.68        21\n",
      "         1.0       0.40      0.33      0.36         6\n",
      "         2.0       0.84      0.82      0.83        33\n",
      "\n",
      "    accuracy                           0.73        60\n",
      "   macro avg       0.63      0.62      0.63        60\n",
      "weighted avg       0.73      0.73      0.73        60\n",
      "\n"
     ]
    }
   ],
   "source": [
    "# Classification report for logistic regression\n",
    "print(classification_report(y_test, y_pred_LR))"
   ]
  },
  {
   "cell_type": "markdown",
   "metadata": {},
   "source": [
    "### Summary:\n",
    " Here, a tuned logistic regression model suited our data best out of the three models tested. "
   ]
  },
  {
   "cell_type": "code",
   "execution_count": null,
   "metadata": {},
   "outputs": [],
   "source": []
  }
 ],
 "metadata": {
  "kernelspec": {
   "display_name": "Python 3",
   "language": "python",
   "name": "python3"
  },
  "language_info": {
   "codemirror_mode": {
    "name": "ipython",
    "version": 3
   },
   "file_extension": ".py",
   "mimetype": "text/x-python",
   "name": "python",
   "nbconvert_exporter": "python",
   "pygments_lexer": "ipython3",
   "version": "3.8.3"
  }
 },
 "nbformat": 4,
 "nbformat_minor": 4
}
